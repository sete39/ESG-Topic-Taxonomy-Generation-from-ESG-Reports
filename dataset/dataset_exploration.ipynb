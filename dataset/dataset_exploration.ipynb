{
 "cells": [
  {
   "cell_type": "code",
   "execution_count": 5,
   "id": "a3044f64",
   "metadata": {},
   "outputs": [],
   "source": [
    "import pandas as pdb\n",
    "import Reports"
   ]
  },
  {
   "cell_type": "code",
   "execution_count": 6,
   "id": "f388dced",
   "metadata": {},
   "outputs": [],
   "source": [
    "report_list = Reports.get_all_reports()"
   ]
  },
  {
   "cell_type": "code",
   "execution_count": 8,
   "id": "1d9d0956",
   "metadata": {},
   "outputs": [
    {
     "data": {
      "text/plain": [
       "10214"
      ]
     },
     "execution_count": 8,
     "metadata": {},
     "output_type": "execute_result"
    }
   ],
   "source": [
    "len(report_list)"
   ]
  },
  {
   "cell_type": "code",
   "execution_count": 9,
   "id": "24a5de9d",
   "metadata": {},
   "outputs": [
    {
     "data": {
      "text/plain": [
       "'Since our founding, the annual Company\\nMeeting has been a marquee element of our culture. From presentations on our company\\nstrategy to the inspiring stories shared by\\nfaculty and students, the annual event\\ngrounds everyone in why we’re here – to\\neliminate the back row in education.'"
      ]
     },
     "execution_count": 9,
     "metadata": {},
     "output_type": "execute_result"
    }
   ],
   "source": []
  },
  {
   "cell_type": "code",
   "execution_count": null,
   "id": "29d601e5",
   "metadata": {},
   "outputs": [],
   "source": []
  }
 ],
 "metadata": {
  "kernelspec": {
   "display_name": "tft",
   "language": "python",
   "name": "python3"
  },
  "language_info": {
   "codemirror_mode": {
    "name": "ipython",
    "version": 3
   },
   "file_extension": ".py",
   "mimetype": "text/x-python",
   "name": "python",
   "nbconvert_exporter": "python",
   "pygments_lexer": "ipython3",
   "version": "3.10.9 | packaged by conda-forge | (main, Jan 11 2023, 15:15:40) [MSC v.1916 64 bit (AMD64)]"
  },
  "vscode": {
   "interpreter": {
    "hash": "6d553213cd5ea3894ed306864fd549c1d5a79256058a898845d2cba8a3b00e85"
   }
  }
 },
 "nbformat": 4,
 "nbformat_minor": 5
}
