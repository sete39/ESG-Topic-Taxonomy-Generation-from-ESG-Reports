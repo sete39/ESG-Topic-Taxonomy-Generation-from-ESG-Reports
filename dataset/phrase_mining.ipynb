{
 "cells": [
  {
   "cell_type": "code",
   "execution_count": 1,
   "metadata": {},
   "outputs": [],
   "source": [
    "f = open('./preprocessed.txt', 'r', encoding='utf-8')\n",
    "lines = f.readlines()\n",
    "f.close()\n",
    "\n",
    "def remove_linebreak(line):\n",
    "    if line == '\\n':\n",
    "        return False \n",
    "    return 'nice'\n",
    "\n",
    "filtered_lines = list(filter(remove_linebreak, lines))"
   ]
  },
  {
   "cell_type": "code",
   "execution_count": 2,
   "metadata": {},
   "outputs": [],
   "source": [
    "from uctopic import UCTopicTool\n",
    "topic_tool = UCTopicTool('JiachengLi/uctopic-base', device='cuda:0')"
   ]
  },
  {
   "cell_type": "code",
   "execution_count": 3,
   "metadata": {},
   "outputs": [
    {
     "name": "stderr",
     "output_type": "stream",
     "text": [
      "02/17/2023 09:04:12 - INFO - uctopic.tool - Check sentence length and span indices.\n",
      "02/17/2023 09:17:23 - INFO - uctopic.tool - 4027 sentences are filted because of length or invalid span indices.\n",
      "02/17/2023 09:17:23 - INFO - uctopic.tool - Phrase mining from spaCy.\n",
      "Extract phrases:  73%|███████▎  | 6214542/8464094 [1:30:27<50:11, 746.96it/s]   "
     ]
    }
   ],
   "source": [
    "output_data, topic_phrase_dict = topic_tool.topic_mining(filtered_lines)"
   ]
  },
  {
   "cell_type": "code",
   "execution_count": null,
   "metadata": {},
   "outputs": [],
   "source": [
    "import pickle\n",
    "pickle.dump(output_data, open('output.p', 'wb'))\n",
    "pickle.dump(topic_phrase_dict, open('output.p', 'wb'))"
   ]
  },
  {
   "cell_type": "code",
   "execution_count": null,
   "metadata": {},
   "outputs": [],
   "source": []
  }
 ],
 "metadata": {
  "kernelspec": {
   "display_name": "base",
   "language": "python",
   "name": "python3"
  },
  "language_info": {
   "codemirror_mode": {
    "name": "ipython",
    "version": 3
   },
   "file_extension": ".py",
   "mimetype": "text/x-python",
   "name": "python",
   "nbconvert_exporter": "python",
   "pygments_lexer": "ipython3",
   "version": "3.9.12"
  },
  "orig_nbformat": 4,
  "vscode": {
   "interpreter": {
    "hash": "4e907c9c662b38b6fe9e69d6881d7a36bc6e4ecfbfed88be2a66ef06ac6f6bc4"
   }
  }
 },
 "nbformat": 4,
 "nbformat_minor": 2
}
